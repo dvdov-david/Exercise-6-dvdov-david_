{
 "cells": [
  {
   "cell_type": "markdown",
   "metadata": {
    "deletable": false,
    "editable": false,
    "nbgrader": {
     "cell_type": "markdown",
     "checksum": "746cd949432573377f05b1cc27fab570",
     "grade": false,
     "grade_id": "cell-f2d00c67ecd9e7dc",
     "locked": true,
     "schema_version": 3,
     "solution": false
    }
   },
   "source": [
    "# Exercise 6: Weather anomalies (*10 points*)\n",
    "\n",
    "The aim of this exercise is to analyze historical weather data. In Problem 1 you read in a tricky data file and explore it's contents. In problem 2, you will convert and aggregate the data from daily temperatures in Fahrenheit, to monthly average temperatures in Celsius. In Problem 3, you will finally analyze weather anomalies by comparing monthly average temperatures to a long-term average.\n",
    "\n",
    "**Notice**: Closely follow the instructions! Please use **exactly** the same variable names mentioned in the instructions because your answers will be automatically graded, and the tests that grade your answers rely on following the given variable naming. Also, please do not copy/paste existing code cells. You can add cells if you like, but copying and pasting can also cause the automatic tests to fail.\n",
    "\n",
    "\n",
    "## Problem 1 - Reading in a tricky data file (*2 points*)\n",
    "\n",
    "You first task for this exercise is to read in the data file [data/1091402.txt](data/1091402.txt) to a variable called `data`. Pay attention to the input data structure and no data values.\n",
    "\n",
    "**Your score on this problem will be based on following criteria:**\n",
    "\n",
    "- Reading the data into a variable called `data` using Pandas\n",
    "    - Skipping the second row of the datafile that contains `----------` characters that don't belong to the data\n",
    "    - Convert the no-data values (`-9999`) into `NaN` \n",
    "- Calculating basic statistics from the data\n",
    "- Including comments that explain what most lines in the code do"
   ]
  },
  {
   "cell_type": "markdown",
   "metadata": {
    "deletable": false,
    "editable": false,
    "nbgrader": {
     "cell_type": "markdown",
     "checksum": "2709031d118f54aa5f3c4b75e2691265",
     "grade": false,
     "grade_id": "cell-52cc9f4650eada57",
     "locked": true,
     "schema_version": 3,
     "solution": false
    }
   },
   "source": [
    "### Part 1 (*1 point*)\n",
    "\n",
    "You should start by reading the data file.\n",
    "\n",
    "- Read the data file into variable the variable `data`\n",
    "    - Skip the second row\n",
    "    - Convert the no-data values (`-9999`) into `NaN`"
   ]
  },
  {
   "cell_type": "code",
   "execution_count": 133,
   "metadata": {
    "deletable": false,
    "nbgrader": {
     "cell_type": "code",
     "checksum": "0a59ed215aad4b3d7b0268cbe2f44006",
     "grade": false,
     "grade_id": "problem_1_ag_p1_read_file",
     "locked": false,
     "schema_version": 3,
     "solution": true
    }
   },
   "outputs": [],
   "source": [
    "data = None\n",
    "\n",
    "import pandas as pd\n",
    "\n",
    "#configure path to datafile and read data file into a variable\n",
    "path = r'C:/Users/David/Documents/Notebooks/Helsinski_course/Ejercicios/Github/exercise-6-dvdov-david/data/1091402.txt'\n",
    "data = pd.read_csv(path,delim_whitespace=True, skiprows=[1], na_values = -9999)"
   ]
  },
  {
   "cell_type": "code",
   "execution_count": 134,
   "metadata": {
    "deletable": false,
    "editable": false,
    "nbgrader": {
     "cell_type": "code",
     "checksum": "4f2d002e5558bd4102cb11bd7a92436a",
     "grade": true,
     "grade_id": "problem_1_ag_p1_read_file_tests1",
     "locked": true,
     "points": 0.5,
     "schema_version": 3,
     "solution": false
    }
   },
   "outputs": [
    {
     "data": {
      "text/html": [
       "<div>\n",
       "<style scoped>\n",
       "    .dataframe tbody tr th:only-of-type {\n",
       "        vertical-align: middle;\n",
       "    }\n",
       "\n",
       "    .dataframe tbody tr th {\n",
       "        vertical-align: top;\n",
       "    }\n",
       "\n",
       "    .dataframe thead th {\n",
       "        text-align: right;\n",
       "    }\n",
       "</style>\n",
       "<table border=\"1\" class=\"dataframe\">\n",
       "  <thead>\n",
       "    <tr style=\"text-align: right;\">\n",
       "      <th></th>\n",
       "      <th>STATION</th>\n",
       "      <th>ELEVATION</th>\n",
       "      <th>LATITUDE</th>\n",
       "      <th>LONGITUDE</th>\n",
       "      <th>DATE</th>\n",
       "      <th>PRCP</th>\n",
       "      <th>TAVG</th>\n",
       "      <th>TMAX</th>\n",
       "      <th>TMIN</th>\n",
       "    </tr>\n",
       "  </thead>\n",
       "  <tbody>\n",
       "    <tr>\n",
       "      <th>0</th>\n",
       "      <td>GHCND:FIE00142080</td>\n",
       "      <td>51</td>\n",
       "      <td>60.3269</td>\n",
       "      <td>24.9603</td>\n",
       "      <td>19520101</td>\n",
       "      <td>0.31</td>\n",
       "      <td>37.0</td>\n",
       "      <td>39.0</td>\n",
       "      <td>34.0</td>\n",
       "    </tr>\n",
       "    <tr>\n",
       "      <th>1</th>\n",
       "      <td>GHCND:FIE00142080</td>\n",
       "      <td>51</td>\n",
       "      <td>60.3269</td>\n",
       "      <td>24.9603</td>\n",
       "      <td>19520102</td>\n",
       "      <td>NaN</td>\n",
       "      <td>35.0</td>\n",
       "      <td>37.0</td>\n",
       "      <td>34.0</td>\n",
       "    </tr>\n",
       "    <tr>\n",
       "      <th>2</th>\n",
       "      <td>GHCND:FIE00142080</td>\n",
       "      <td>51</td>\n",
       "      <td>60.3269</td>\n",
       "      <td>24.9603</td>\n",
       "      <td>19520103</td>\n",
       "      <td>0.14</td>\n",
       "      <td>33.0</td>\n",
       "      <td>36.0</td>\n",
       "      <td>NaN</td>\n",
       "    </tr>\n",
       "    <tr>\n",
       "      <th>3</th>\n",
       "      <td>GHCND:FIE00142080</td>\n",
       "      <td>51</td>\n",
       "      <td>60.3269</td>\n",
       "      <td>24.9603</td>\n",
       "      <td>19520104</td>\n",
       "      <td>0.05</td>\n",
       "      <td>29.0</td>\n",
       "      <td>30.0</td>\n",
       "      <td>25.0</td>\n",
       "    </tr>\n",
       "    <tr>\n",
       "      <th>4</th>\n",
       "      <td>GHCND:FIE00142080</td>\n",
       "      <td>51</td>\n",
       "      <td>60.3269</td>\n",
       "      <td>24.9603</td>\n",
       "      <td>19520105</td>\n",
       "      <td>0.06</td>\n",
       "      <td>27.0</td>\n",
       "      <td>30.0</td>\n",
       "      <td>25.0</td>\n",
       "    </tr>\n",
       "  </tbody>\n",
       "</table>\n",
       "</div>"
      ],
      "text/plain": [
       "             STATION  ELEVATION  LATITUDE  LONGITUDE      DATE  PRCP  TAVG  \\\n",
       "0  GHCND:FIE00142080         51   60.3269    24.9603  19520101  0.31  37.0   \n",
       "1  GHCND:FIE00142080         51   60.3269    24.9603  19520102   NaN  35.0   \n",
       "2  GHCND:FIE00142080         51   60.3269    24.9603  19520103  0.14  33.0   \n",
       "3  GHCND:FIE00142080         51   60.3269    24.9603  19520104  0.05  29.0   \n",
       "4  GHCND:FIE00142080         51   60.3269    24.9603  19520105  0.06  27.0   \n",
       "\n",
       "   TMAX  TMIN  \n",
       "0  39.0  34.0  \n",
       "1  37.0  34.0  \n",
       "2  36.0   NaN  \n",
       "3  30.0  25.0  \n",
       "4  30.0  25.0  "
      ]
     },
     "execution_count": 134,
     "metadata": {},
     "output_type": "execute_result"
    }
   ],
   "source": [
    "# Check that the dataframe looks ok:\n",
    "data.head()"
   ]
  },
  {
   "cell_type": "code",
   "execution_count": 136,
   "metadata": {
    "deletable": false,
    "editable": false,
    "nbgrader": {
     "cell_type": "code",
     "checksum": "4085783ee6c0b8ce20df6135dbd3918a",
     "grade": true,
     "grade_id": "problem_1_ag_p1_read_file_tests2",
     "locked": true,
     "points": 0.5,
     "schema_version": 3,
     "solution": false
    }
   },
   "outputs": [
    {
     "data": {
      "text/html": [
       "<div>\n",
       "<style scoped>\n",
       "    .dataframe tbody tr th:only-of-type {\n",
       "        vertical-align: middle;\n",
       "    }\n",
       "\n",
       "    .dataframe tbody tr th {\n",
       "        vertical-align: top;\n",
       "    }\n",
       "\n",
       "    .dataframe thead th {\n",
       "        text-align: right;\n",
       "    }\n",
       "</style>\n",
       "<table border=\"1\" class=\"dataframe\">\n",
       "  <thead>\n",
       "    <tr style=\"text-align: right;\">\n",
       "      <th></th>\n",
       "      <th>STATION</th>\n",
       "      <th>ELEVATION</th>\n",
       "      <th>LATITUDE</th>\n",
       "      <th>LONGITUDE</th>\n",
       "      <th>DATE</th>\n",
       "      <th>PRCP</th>\n",
       "      <th>TAVG</th>\n",
       "      <th>TMAX</th>\n",
       "      <th>TMIN</th>\n",
       "    </tr>\n",
       "  </thead>\n",
       "  <tbody>\n",
       "    <tr>\n",
       "      <th>23711</th>\n",
       "      <td>GHCND:FIE00142080</td>\n",
       "      <td>51</td>\n",
       "      <td>60.3269</td>\n",
       "      <td>24.9603</td>\n",
       "      <td>20170930</td>\n",
       "      <td>NaN</td>\n",
       "      <td>47.0</td>\n",
       "      <td>49.0</td>\n",
       "      <td>44.0</td>\n",
       "    </tr>\n",
       "    <tr>\n",
       "      <th>23712</th>\n",
       "      <td>GHCND:FIE00142080</td>\n",
       "      <td>51</td>\n",
       "      <td>60.3269</td>\n",
       "      <td>24.9603</td>\n",
       "      <td>20171001</td>\n",
       "      <td>0.04</td>\n",
       "      <td>47.0</td>\n",
       "      <td>48.0</td>\n",
       "      <td>45.0</td>\n",
       "    </tr>\n",
       "    <tr>\n",
       "      <th>23713</th>\n",
       "      <td>GHCND:FIE00142080</td>\n",
       "      <td>51</td>\n",
       "      <td>60.3269</td>\n",
       "      <td>24.9603</td>\n",
       "      <td>20171002</td>\n",
       "      <td>NaN</td>\n",
       "      <td>47.0</td>\n",
       "      <td>49.0</td>\n",
       "      <td>46.0</td>\n",
       "    </tr>\n",
       "    <tr>\n",
       "      <th>23714</th>\n",
       "      <td>GHCND:FIE00142080</td>\n",
       "      <td>51</td>\n",
       "      <td>60.3269</td>\n",
       "      <td>24.9603</td>\n",
       "      <td>20171003</td>\n",
       "      <td>0.94</td>\n",
       "      <td>47.0</td>\n",
       "      <td>NaN</td>\n",
       "      <td>44.0</td>\n",
       "    </tr>\n",
       "    <tr>\n",
       "      <th>23715</th>\n",
       "      <td>GHCND:FIE00142080</td>\n",
       "      <td>51</td>\n",
       "      <td>60.3269</td>\n",
       "      <td>24.9603</td>\n",
       "      <td>20171004</td>\n",
       "      <td>0.51</td>\n",
       "      <td>52.0</td>\n",
       "      <td>56.0</td>\n",
       "      <td>NaN</td>\n",
       "    </tr>\n",
       "  </tbody>\n",
       "</table>\n",
       "</div>"
      ],
      "text/plain": [
       "                 STATION  ELEVATION  LATITUDE  LONGITUDE      DATE  PRCP  \\\n",
       "23711  GHCND:FIE00142080         51   60.3269    24.9603  20170930   NaN   \n",
       "23712  GHCND:FIE00142080         51   60.3269    24.9603  20171001  0.04   \n",
       "23713  GHCND:FIE00142080         51   60.3269    24.9603  20171002   NaN   \n",
       "23714  GHCND:FIE00142080         51   60.3269    24.9603  20171003  0.94   \n",
       "23715  GHCND:FIE00142080         51   60.3269    24.9603  20171004  0.51   \n",
       "\n",
       "       TAVG  TMAX  TMIN  \n",
       "23711  47.0  49.0  44.0  \n",
       "23712  47.0  48.0  45.0  \n",
       "23713  47.0  49.0  46.0  \n",
       "23714  47.0   NaN  44.0  \n",
       "23715  52.0  56.0   NaN  "
      ]
     },
     "execution_count": 136,
     "metadata": {},
     "output_type": "execute_result"
    }
   ],
   "source": [
    "# Check the last rows of the data (there should be some NaN values)\n",
    "data.tail()"
   ]
  },
  {
   "cell_type": "markdown",
   "metadata": {
    "deletable": false,
    "editable": false,
    "nbgrader": {
     "cell_type": "markdown",
     "checksum": "1751d52789be8bc43aeaf37bcbf38bbd",
     "grade": false,
     "grade_id": "cell-7f848d5f8acf3a0f",
     "locked": true,
     "schema_version": 3,
     "solution": false
    }
   },
   "source": [
    "### Part 2 (*1 point*)\n",
    "\n",
    "In this section, you will calculate simple statistics based on the input data:\n",
    "\n",
    "- Calculate how many no-data (NaN) values there are in the `TAVG` column\n",
    "    - Assign your answer to a variable called `tavg_nodata_count`."
   ]
  },
  {
   "cell_type": "code",
   "execution_count": 137,
   "metadata": {
    "deletable": false,
    "nbgrader": {
     "cell_type": "code",
     "checksum": "b316576ac0b2a9eb31862457bd43ea3a",
     "grade": false,
     "grade_id": "problem_1_ag_p2_tavg_nodata_count",
     "locked": false,
     "schema_version": 3,
     "solution": true
    }
   },
   "outputs": [],
   "source": [
    "tavg_nodata_count = None\n",
    "\n",
    "# select rows where TAVG column have no values\n",
    "tavg_nodata_count = len(data[data['TAVG'] == 'NaN'])"
   ]
  },
  {
   "cell_type": "code",
   "execution_count": 138,
   "metadata": {
    "deletable": false,
    "editable": false,
    "nbgrader": {
     "cell_type": "code",
     "checksum": "08597dcacba7264c3efbbad69e375861",
     "grade": true,
     "grade_id": "problem_1_ag_p2_tavg_nodata_count_test1",
     "locked": true,
     "points": 0.2,
     "schema_version": 3,
     "solution": false
    }
   },
   "outputs": [
    {
     "name": "stdout",
     "output_type": "stream",
     "text": [
      "Number of no-data values in column \"TAVG\": 0\n"
     ]
    }
   ],
   "source": [
    "# Print out the solution:\n",
    "print('Number of no-data values in column \"TAVG\":',tavg_nodata_count)"
   ]
  },
  {
   "cell_type": "markdown",
   "metadata": {
    "deletable": false,
    "editable": false,
    "nbgrader": {
     "cell_type": "markdown",
     "checksum": "55529fa822f09b326b39216eedf07783",
     "grade": false,
     "grade_id": "cell-600c96096b421522",
     "locked": true,
     "schema_version": 3,
     "solution": false
    }
   },
   "source": [
    "- Calculate how many no-data (NaN) values there are for the `TMIN` column\n",
    "    - Assign your answer into a variable called `tmin_nodata_count`"
   ]
  },
  {
   "cell_type": "code",
   "execution_count": 139,
   "metadata": {
    "deletable": false,
    "nbgrader": {
     "cell_type": "code",
     "checksum": "7a9fa44d3a594ef3ace6df51941fe466",
     "grade": false,
     "grade_id": "problem_1_ag_p2_tmin_nodata_count",
     "locked": false,
     "schema_version": 3,
     "solution": true
    }
   },
   "outputs": [],
   "source": [
    "tmin_nodata_count = None\n",
    "\n",
    "# select rows where TAVG column have no values\n",
    "tmin_nodata_count = len(data[data['TMIN'] == 'NaN'])"
   ]
  },
  {
   "cell_type": "code",
   "execution_count": 140,
   "metadata": {
    "deletable": false,
    "editable": false,
    "nbgrader": {
     "cell_type": "code",
     "checksum": "5ddec1de1c0a27b6324dc197df395f6d",
     "grade": true,
     "grade_id": "problem_1_tmin_nodata_count_test1",
     "locked": true,
     "points": 0.2,
     "schema_version": 3,
     "solution": false
    }
   },
   "outputs": [
    {
     "name": "stdout",
     "output_type": "stream",
     "text": [
      "Number of no-data values in column \"TMIN\": 0\n"
     ]
    }
   ],
   "source": [
    "# Print out the solution:\n",
    "print('Number of no-data values in column \"TMIN\":', tmin_nodata_count)"
   ]
  },
  {
   "cell_type": "markdown",
   "metadata": {
    "deletable": false,
    "editable": false,
    "nbgrader": {
     "cell_type": "markdown",
     "checksum": "908ddb381122ee0dcfaef62e3d3b8173",
     "grade": false,
     "grade_id": "cell-25998b4f0d14e8f0",
     "locked": true,
     "schema_version": 3,
     "solution": false
    }
   },
   "source": [
    "- Calculate the total number of days covered by this data file\n",
    "    - Assign your answer into a variable called `day_count`"
   ]
  },
  {
   "cell_type": "code",
   "execution_count": 141,
   "metadata": {
    "deletable": false,
    "nbgrader": {
     "cell_type": "code",
     "checksum": "ca6edbcd87bea7b709530ac6e1b9971f",
     "grade": false,
     "grade_id": "problem_1_ag_p2_day_count",
     "locked": false,
     "schema_version": 3,
     "solution": true
    }
   },
   "outputs": [
    {
     "data": {
      "text/plain": [
       "STATION       object\n",
       "ELEVATION      int64\n",
       "LATITUDE     float64\n",
       "LONGITUDE    float64\n",
       "DATE           int64\n",
       "PRCP         float64\n",
       "TAVG         float64\n",
       "TMAX         float64\n",
       "TMIN         float64\n",
       "dtype: object"
      ]
     },
     "execution_count": 141,
     "metadata": {},
     "output_type": "execute_result"
    }
   ],
   "source": [
    "day_count = None\n",
    "\n",
    "# Check 'DATE' data type\n",
    "data.dtypes"
   ]
  },
  {
   "cell_type": "code",
   "execution_count": 142,
   "metadata": {},
   "outputs": [
    {
     "name": "stdout",
     "output_type": "stream",
     "text": [
      "min date: 19520101  max date: 20171004\n"
     ]
    }
   ],
   "source": [
    "# Overview of magnitud in Date values\n",
    "print('min date:',data['DATE'].min(), ' max date:',data['DATE'].max() )"
   ]
  },
  {
   "cell_type": "code",
   "execution_count": 143,
   "metadata": {},
   "outputs": [],
   "source": [
    "day_count = data['DATE'].nunique()"
   ]
  },
  {
   "cell_type": "code",
   "execution_count": 145,
   "metadata": {
    "deletable": false,
    "editable": false,
    "nbgrader": {
     "cell_type": "code",
     "checksum": "b74908e2bc073dacce9d4313850e7b84",
     "grade": true,
     "grade_id": "problem_1_ag_p2_day_count_test1",
     "locked": true,
     "points": 0.1,
     "schema_version": 3,
     "solution": false
    }
   },
   "outputs": [
    {
     "name": "stdout",
     "output_type": "stream",
     "text": [
      "Number of days: 23716\n"
     ]
    }
   ],
   "source": [
    "# Print out the solution:\n",
    "print(\"Number of days:\", day_count)"
   ]
  },
  {
   "cell_type": "markdown",
   "metadata": {
    "deletable": false,
    "editable": false,
    "nbgrader": {
     "cell_type": "markdown",
     "checksum": "9cad6f0caab2312ddba764c48fe512cf",
     "grade": false,
     "grade_id": "cell-424dcdef3dde1b89",
     "locked": true,
     "schema_version": 3,
     "solution": false
    }
   },
   "source": [
    "- Find the date of the oldest (first) observation\n",
    "    - Assign your answer into a variable called `first_obs`"
   ]
  },
  {
   "cell_type": "code",
   "execution_count": 146,
   "metadata": {
    "deletable": false,
    "nbgrader": {
     "cell_type": "code",
     "checksum": "d4426e2e973fdcb77308e7f21db7d078",
     "grade": false,
     "grade_id": "problem_1_ag_p2_first_observation",
     "locked": false,
     "schema_version": 3,
     "solution": true
    }
   },
   "outputs": [],
   "source": [
    "first_obs = None\n",
    "# get a ordered values from lower to highest and then select first result of the list\n",
    "first_obs = data['DATE'].sort_values(ascending=True).at[0]\n"
   ]
  },
  {
   "cell_type": "code",
   "execution_count": 147,
   "metadata": {
    "deletable": false,
    "editable": false,
    "nbgrader": {
     "cell_type": "code",
     "checksum": "d353c2124b023407b92800ad84802cff",
     "grade": true,
     "grade_id": "problem_1_ag_p2_first_observation_test1",
     "locked": true,
     "points": 0.1,
     "schema_version": 3,
     "solution": false
    }
   },
   "outputs": [
    {
     "name": "stdout",
     "output_type": "stream",
     "text": [
      "Date of the first observation: 19520101\n"
     ]
    }
   ],
   "source": [
    "# Print out the solution:\n",
    "print('Date of the first observation:',first_obs)"
   ]
  },
  {
   "cell_type": "markdown",
   "metadata": {
    "deletable": false,
    "editable": false,
    "nbgrader": {
     "cell_type": "markdown",
     "checksum": "79af6f07754be8b7f201fef854f0c911",
     "grade": false,
     "grade_id": "cell-1a9a82e0f837ac34",
     "locked": true,
     "schema_version": 3,
     "solution": false
    }
   },
   "source": [
    "- Find the date of the most recent (last) observation\n",
    "    - Assign your answer into a variable called `last_obs`"
   ]
  },
  {
   "cell_type": "code",
   "execution_count": 148,
   "metadata": {
    "deletable": false,
    "nbgrader": {
     "cell_type": "code",
     "checksum": "131399671973a4a7927d73bd58846be2",
     "grade": false,
     "grade_id": "problem_1_ag_p2_last_observation",
     "locked": false,
     "schema_version": 3,
     "solution": true
    }
   },
   "outputs": [
    {
     "data": {
      "text/plain": [
       "numpy.int64"
      ]
     },
     "execution_count": 148,
     "metadata": {},
     "output_type": "execute_result"
    }
   ],
   "source": [
    "last_obs = None\n",
    "# get a ordered values from highest to lower and then select first result of the list\n",
    "last_obs = data['DATE'].sort_values(ascending=False, ignore_index = True).at[0]\n",
    "type(last_obs)\n"
   ]
  },
  {
   "cell_type": "code",
   "execution_count": 149,
   "metadata": {
    "deletable": false,
    "editable": false,
    "nbgrader": {
     "cell_type": "code",
     "checksum": "1c0b91a9681d2197d5d7b00072f3cfed",
     "grade": true,
     "grade_id": "problem_1_ag_p2_last_observation_test1",
     "locked": true,
     "points": 0.1,
     "schema_version": 3,
     "solution": false
    }
   },
   "outputs": [
    {
     "name": "stdout",
     "output_type": "stream",
     "text": [
      "Date of the last observation: 20171004\n"
     ]
    }
   ],
   "source": [
    "# Print out the solution:\n",
    "print('Date of the last observation:', last_obs)\n"
   ]
  },
  {
   "cell_type": "markdown",
   "metadata": {
    "deletable": false,
    "editable": false,
    "nbgrader": {
     "cell_type": "markdown",
     "checksum": "131ae54b07359d9ce8453074f0106fc2",
     "grade": false,
     "grade_id": "cell-3fbd149c1e58a16c",
     "locked": true,
     "schema_version": 3,
     "solution": false
    }
   },
   "source": [
    "- Find the average temperature for the whole data file (all observtions) from column `TAVG`\n",
    "    - Assign your answer into a variable called `avg_temp`"
   ]
  },
  {
   "cell_type": "code",
   "execution_count": 150,
   "metadata": {
    "deletable": false,
    "nbgrader": {
     "cell_type": "code",
     "checksum": "f372edd8f4852af683211056c915e1ff",
     "grade": false,
     "grade_id": "problem_1_ag_p2_avg_temp",
     "locked": false,
     "schema_version": 3,
     "solution": true
    }
   },
   "outputs": [],
   "source": [
    "avg_temp = None\n",
    "avg_temp = data['TAVG'].mean()"
   ]
  },
  {
   "cell_type": "code",
   "execution_count": 151,
   "metadata": {
    "deletable": false,
    "editable": false,
    "nbgrader": {
     "cell_type": "code",
     "checksum": "642da66112e5e57b2aa83f425fa45611",
     "grade": true,
     "grade_id": "problem_1_ag_p2_avg_temp_test1",
     "locked": true,
     "points": 0.1,
     "schema_version": 3,
     "solution": false
    }
   },
   "outputs": [
    {
     "name": "stdout",
     "output_type": "stream",
     "text": [
      "Average temperature (F) for the whole dataset: 41.32\n"
     ]
    }
   ],
   "source": [
    "# Print out the solution:\n",
    "print('Average temperature (F) for the whole dataset:', round(avg_temp, 2))"
   ]
  },
  {
   "cell_type": "markdown",
   "metadata": {
    "deletable": false,
    "editable": false,
    "nbgrader": {
     "cell_type": "markdown",
     "checksum": "413f5bc8bb8db591d81ed1b76a04ae7f",
     "grade": false,
     "grade_id": "cell-784617d6edc656a6",
     "locked": true,
     "schema_version": 3,
     "solution": false
    }
   },
   "source": [
    "- Find the average `TMAX` temperature over the Summer of 1969 (months May, June, July, and August of the year 1969)\n",
    "    - Assign your answer into a variable called `avg_temp_1969`"
   ]
  },
  {
   "cell_type": "code",
   "execution_count": 152,
   "metadata": {
    "deletable": false,
    "nbgrader": {
     "cell_type": "code",
     "checksum": "5fed5e4fc30ff7342e47f2830475fe18",
     "grade": false,
     "grade_id": "problem_1_ag_p2_avg_temp_69",
     "locked": false,
     "schema_version": 3,
     "solution": true
    }
   },
   "outputs": [],
   "source": [
    "avg_temp_1969 = None\n",
    "\n",
    "# convert DATE int datatype into string and then into datetime type\n",
    "data['DATE_DT'] = pd.to_datetime(data['DATE'].astype(str)) \n",
    "\n",
    "# REPLACE THE ERROR BELOW WITH YOUR OWN CODE\n",
    "#raise NotImplementedError()"
   ]
  },
  {
   "cell_type": "code",
   "execution_count": 153,
   "metadata": {},
   "outputs": [],
   "source": [
    "# Select rows meeting year and months required\n",
    "selected = data.loc[(data['DATE_DT'].dt.year == 1969) & (data['DATE_DT'].dt.month.isin([5,6,7])), 'TMAX']\n",
    "# Agrupar TMAX by gruop of three months\n",
    "avg_temp_1969 = selected.groupby(data['DATE_DT'].dt.month.isin([5,6,7])).mean().at[1]"
   ]
  },
  {
   "cell_type": "code",
   "execution_count": 154,
   "metadata": {
    "deletable": false,
    "editable": false,
    "nbgrader": {
     "cell_type": "code",
     "checksum": "4600ed753783e32e79cb133ad03452a2",
     "grade": true,
     "grade_id": "problem_1_ag_p2_avg_temp_69_test1",
     "locked": true,
     "points": 0.2,
     "schema_version": 3,
     "solution": false
    }
   },
   "outputs": [
    {
     "name": "stdout",
     "output_type": "stream",
     "text": [
      "Average temperature (F) for the Summer of 69: 66.43\n"
     ]
    }
   ],
   "source": [
    "# This test print should print a number\n",
    "print('Average temperature (F) for the Summer of 69:', round(avg_temp_1969, 2))\n"
   ]
  },
  {
   "cell_type": "code",
   "execution_count": 155,
   "metadata": {},
   "outputs": [
    {
     "name": "stdout",
     "output_type": "stream",
     "text": [
      "                 STATION  ELEVATION  LATITUDE  LONGITUDE      DATE  PRCP  \\\n",
      "0      GHCND:FIE00142080         51   60.3269    24.9603  19520101  0.31   \n",
      "1      GHCND:FIE00142080         51   60.3269    24.9603  19520102   NaN   \n",
      "2      GHCND:FIE00142080         51   60.3269    24.9603  19520103  0.14   \n",
      "3      GHCND:FIE00142080         51   60.3269    24.9603  19520104  0.05   \n",
      "4      GHCND:FIE00142080         51   60.3269    24.9603  19520105  0.06   \n",
      "...                  ...        ...       ...        ...       ...   ...   \n",
      "23711  GHCND:FIE00142080         51   60.3269    24.9603  20170930   NaN   \n",
      "23712  GHCND:FIE00142080         51   60.3269    24.9603  20171001  0.04   \n",
      "23713  GHCND:FIE00142080         51   60.3269    24.9603  20171002   NaN   \n",
      "23714  GHCND:FIE00142080         51   60.3269    24.9603  20171003  0.94   \n",
      "23715  GHCND:FIE00142080         51   60.3269    24.9603  20171004  0.51   \n",
      "\n",
      "       TAVG  TMAX  TMIN    DATE_DT  \n",
      "0      37.0  39.0  34.0 1952-01-01  \n",
      "1      35.0  37.0  34.0 1952-01-02  \n",
      "2      33.0  36.0   NaN 1952-01-03  \n",
      "3      29.0  30.0  25.0 1952-01-04  \n",
      "4      27.0  30.0  25.0 1952-01-05  \n",
      "...     ...   ...   ...        ...  \n",
      "23711  47.0  49.0  44.0 2017-09-30  \n",
      "23712  47.0  48.0  45.0 2017-10-01  \n",
      "23713  47.0  49.0  46.0 2017-10-02  \n",
      "23714  47.0   NaN  44.0 2017-10-03  \n",
      "23715  52.0  56.0   NaN 2017-10-04  \n",
      "\n",
      "[23716 rows x 10 columns]\n"
     ]
    }
   ],
   "source": [
    "print(data)"
   ]
  },
  {
   "cell_type": "markdown",
   "metadata": {
    "deletable": false,
    "editable": false,
    "nbgrader": {
     "cell_type": "markdown",
     "checksum": "4f9e6aa7392a7983102d6b5bd572cbdc",
     "grade": false,
     "grade_id": "cell-beeb38c1b8d3eb13",
     "locked": true,
     "schema_version": 3,
     "solution": false
    }
   },
   "source": [
    "## Problem 2 - Calculating monthly average temperatures (*3 points*)\n",
    "\n",
    "For this problem your goal is to calculate monthly average temperatures in degrees Celsius from the daily Fahrenheit values we have in the data file. You can continue working with the same DataFrame that you used in Problem 1.\n",
    "\n",
    "**Your score on this problem will be based on following criteria:**\n",
    "\n",
    "- Calculating the monthly average temperatures in degrees Celsius for the each month in the dataset (i.e., for each month of each year)\n",
    "    - You should store the monthly average temperatures in a new Pandas DataFrame called `monthly_data`\n",
    "    - `monthly_data` should contain a new column called `temp_celsius` the monthly average temperatures in Celsius\n",
    "    - Convert the `TAVG` values in Fahrenheit into Celsius and store the output in the `temp_celsius`\n",
    "- Including comments that explain what most lines in the code do\n",
    "- Uploading your notebook to your GitHub repository for this week's exercise\n",
    "\n",
    "*Hint: you can start by creating a new column with a label for each month and then continue grouping the data based on this information.*"
   ]
  },
  {
   "cell_type": "code",
   "execution_count": 156,
   "metadata": {
    "deletable": false,
    "nbgrader": {
     "cell_type": "code",
     "checksum": "93cb22923be0abe8ef7ac94da39696e4",
     "grade": false,
     "grade_id": "problem_2_ag_p1_monthly_averages",
     "locked": false,
     "schema_version": 3,
     "solution": true
    }
   },
   "outputs": [],
   "source": [
    "monthly_data = None\n",
    "\n",
    "# Create an empty Dataframe\n",
    "monthly_data = pd.DataFrame()\n",
    "\n",
    "# Create Function to get celsius temperature\n",
    "def faren_2_celsius(Fahr_Temp):\n",
    "\n",
    "    \"\"\"Function to convert Fahrenheit temperature into Celsius.\n",
    "\n",
    "    Parameters\n",
    "    ----------\n",
    "\n",
    "    temp_fahrenheit: int | float\n",
    "        Input temperature in Fahrenheit (should be a number)\n",
    "        \n",
    "    Returns\n",
    "    -------\n",
    "    \n",
    "    Temperature in Celsius (float)\n",
    "    \"\"\"\n",
    "\n",
    "    # Convert the Fahrenheit into Celsius\n",
    "    return (Fahr_Temp - 32) / 1.8\n",
    "\n",
    "\n",
    "# Average temperature by every month for each year in celsius units\n",
    "monthly_data['temp_celsius'] =  data['TAVG'].groupby([data['DATE_DT'].dt.year,data['DATE_DT'].dt.month]).mean().apply(faren_2_celsius)"
   ]
  },
  {
   "cell_type": "code",
   "execution_count": 157,
   "metadata": {},
   "outputs": [
    {
     "data": {
      "text/plain": [
       "temp_celsius    float64\n",
       "dtype: object"
      ]
     },
     "execution_count": 157,
     "metadata": {},
     "output_type": "execute_result"
    }
   ],
   "source": [
    "#checking data results\n",
    "type(monthly_data)\n",
    "monthly_data.dtypes"
   ]
  },
  {
   "cell_type": "code",
   "execution_count": 158,
   "metadata": {
    "deletable": false,
    "editable": false,
    "nbgrader": {
     "cell_type": "code",
     "checksum": "c1f0bb2e971a3a08e19b7de4f65cf188",
     "grade": true,
     "grade_id": "problem_2_ag_p1_monthly_averages_test1",
     "locked": true,
     "points": 0.2,
     "schema_version": 3,
     "solution": false
    }
   },
   "outputs": [
    {
     "name": "stdout",
     "output_type": "stream",
     "text": [
      "790\n"
     ]
    }
   ],
   "source": [
    "# This test print should print the length of variable monthly_data\n",
    "print(len(monthly_data))"
   ]
  },
  {
   "cell_type": "code",
   "execution_count": 159,
   "metadata": {
    "deletable": false,
    "editable": false,
    "nbgrader": {
     "cell_type": "code",
     "checksum": "eb3b7a2eda732af1359e23440d263d73",
     "grade": true,
     "grade_id": "problem_2_ag_p1_monthly_averages_test2",
     "locked": true,
     "points": 0.8,
     "schema_version": 3,
     "solution": false
    }
   },
   "outputs": [
    {
     "name": "stdout",
     "output_type": "stream",
     "text": [
      "['temp_celsius']\n"
     ]
    }
   ],
   "source": [
    "# This test print should print the column names of monthly_data\n",
    "print(monthly_data.columns.values)"
   ]
  },
  {
   "cell_type": "code",
   "execution_count": 160,
   "metadata": {
    "deletable": false,
    "editable": false,
    "nbgrader": {
     "cell_type": "code",
     "checksum": "fea6bdb6e194e4371f229a4aee191e40",
     "grade": true,
     "grade_id": "problem_2_ag_p1_monthly_averages_test3",
     "locked": true,
     "points": 1,
     "schema_version": 3,
     "solution": false
    }
   },
   "outputs": [
    {
     "name": "stdout",
     "output_type": "stream",
     "text": [
      "5.097114347669993\n"
     ]
    }
   ],
   "source": [
    "# This test print should print the mean of temp_celsius\n",
    "print(monthly_data['temp_celsius'].mean())"
   ]
  },
  {
   "cell_type": "code",
   "execution_count": 161,
   "metadata": {
    "deletable": false,
    "editable": false,
    "nbgrader": {
     "cell_type": "code",
     "checksum": "99c2a66c0d510395f7ec8498b257ce2d",
     "grade": true,
     "grade_id": "problem_2_ag_p1_monthly_averages_test4",
     "locked": true,
     "points": 1,
     "schema_version": 3,
     "solution": false
    }
   },
   "outputs": [
    {
     "name": "stdout",
     "output_type": "stream",
     "text": [
      "4.73\n"
     ]
    }
   ],
   "source": [
    "# This test print should print the median of temp_celsius\n",
    "print(round(monthly_data['temp_celsius'].median(), 2))"
   ]
  },
  {
   "cell_type": "markdown",
   "metadata": {
    "deletable": false,
    "editable": false,
    "nbgrader": {
     "cell_type": "markdown",
     "checksum": "359094a40992773d3cee2d0d778fda40",
     "grade": false,
     "grade_id": "cell-ccd31e45c30df3ec",
     "locked": true,
     "schema_version": 3,
     "solution": false
    }
   },
   "source": [
    "## Problem 3 - Calculating temperature anomalies (*5 points*)\n",
    "\n",
    "Our goal in this problem is to calculate monthly temperature anomalies in order to see how temperatures have changed over time, relative to the observation period between 1952-1980. You can continue working with the same data that you used in Problems 1 and 2.\n",
    "\n",
    "**Your score on this problem will be based on following criteria:**\n",
    "\n",
    "### Part 1:\n",
    "\n",
    "- Calculating ***the mean temperature for each month over the period from 1952 up to and including 1980*** in a new DataFrame called `reference_temps`\n",
    "    - You should end up with 12 values, 1 mean temperature for each month during the time period (see example table below).\n",
    "    - The columns in the new DataFrame should be `month` and `ref_temp`\n",
    "    \n",
    "Your `reference_temps` dataframe should have the following structure: 1 value for each month of the year (12 total) and the values represent and average in the observation period 1952-1980. The `ref_temp` temperatures should be in degrees Celsius:\n",
    "   \n",
    "| month    | ref_temp         |\n",
    "|----------|------------------|\n",
    "| 01       | -5.838761        |\n",
    "| 02       | -7.064088        |\n",
    "| 03       | -3.874213        |\n",
    "| ...      | ...              |\n",
    "\n",
    "### Part 2:\n",
    "\n",
    "- Calculating **a temperature anomaly for every month** in the `monthly_data` DataFrame using the corresponding monthly average temperature for each of the 12 months:\n",
    "    - In order to achieve this you need to make **a table join** (see [hints for this week](https://geo-python.github.io/site/lessons/L5/exercise-6.html)) between `monthly_data` and `ref_temps` based on the month.\n",
    "    - Temperature anomaly is calculated as the difference between the temperature for a given month (`temp_celsius` column in `monthly_data`) and the corresponding monthly reference temperature (`ref_temp` column in`reference_temps`) \n",
    "    - Store the result in a new column `\"diff\"` \n",
    "    \n",
    "As the output of the table join and the calculation, you should have three new columns in the `monthly_data` DataFrame: \n",
    "1. `diff`: The temperature anomaly, i.e. the difference between the temperature for a given month (e.g., February 1960) and the average during the reference period (e.g., for February 1952-1980), \n",
    "2. `month`: The month for that row of observations\n",
    "3. `ref_temp`: The monthly reference temperature\n",
    "\n",
    "You should finally report which month had the greatest weather anomaly during the observed time period.\n",
    "\n",
    "Remember to include comments in your code and commit your changes using git."
   ]
  },
  {
   "cell_type": "code",
   "execution_count": 162,
   "metadata": {
    "deletable": false,
    "nbgrader": {
     "cell_type": "code",
     "checksum": "3f5c3a018b5a15dde5f374da3bd811f4",
     "grade": false,
     "grade_id": "problem_3_ag_p1_temperature_anomaly",
     "locked": false,
     "schema_version": 3,
     "solution": true
    }
   },
   "outputs": [],
   "source": [
    "# create an empty dataframe\n",
    "reference_temps = pd.DataFrame()\n",
    "\n",
    "# Average temperature by every month for all years in celsius units\n",
    "# rename column as required\n",
    "reference_temps = monthly_data.groupby(monthly_data.index.get_level_values(1)).mean().rename(columns={'temp_celsius':'ref_temp'})\n",
    "\n",
    "# Create a column with month number (as required) from index\n",
    "reference_temps['month'] = reference_temps.index.values"
   ]
  },
  {
   "cell_type": "code",
   "execution_count": 164,
   "metadata": {},
   "outputs": [
    {
     "name": "stdout",
     "output_type": "stream",
     "text": [
      "                 temp_celsius\n",
      "DATE_DT DATE_DT              \n",
      "1952    1           -1.400966\n",
      "        2           -4.000000\n",
      "        3          -10.106838\n",
      "        4            4.226190\n",
      "        5            7.037037\n",
      "...                       ...\n",
      "2017    6           13.500000\n",
      "        7           15.716846\n",
      "        8           15.716846\n",
      "        9           11.296296\n",
      "        10           9.027778\n",
      "\n",
      "[790 rows x 1 columns]\n",
      "          ref_temp  month\n",
      "DATE_DT                  \n",
      "1        -5.350916      1\n",
      "2        -5.941307      2\n",
      "3        -2.440364      3\n",
      "4         3.423785      4\n",
      "5        10.179938      5\n",
      "6        14.667858      6\n",
      "7        17.280519      7\n",
      "8        15.603642      8\n",
      "9        10.596153      9\n",
      "10        5.487785     10\n",
      "11        0.645782     11\n",
      "12       -3.211359     12\n"
     ]
    }
   ],
   "source": [
    "# checking results - comparing both dataframes\n",
    "print(monthly_data)\n",
    "print(reference_temps)"
   ]
  },
  {
   "cell_type": "code",
   "execution_count": 165,
   "metadata": {},
   "outputs": [],
   "source": [
    "# Aconditionate dataframe to merge data: index levels as columns\n",
    "monthly_data['month'] = monthly_data.index.get_level_values(1)\n",
    "monthly_data['year']  = monthly_data.index.get_level_values(0)\n"
   ]
  },
  {
   "cell_type": "code",
   "execution_count": 166,
   "metadata": {},
   "outputs": [
    {
     "name": "stdout",
     "output_type": "stream",
     "text": [
      "                 temp_celsius  month  year\n",
      "DATE_DT DATE_DT                           \n",
      "1952    1           -1.400966      1  1952\n",
      "        2           -4.000000      2  1952\n",
      "        3          -10.106838      3  1952\n",
      "        4            4.226190      4  1952\n",
      "        5            7.037037      5  1952\n",
      "...                       ...    ...   ...\n",
      "2017    6           13.500000      6  2017\n",
      "        7           15.716846      7  2017\n",
      "        8           15.716846      8  2017\n",
      "        9           11.296296      9  2017\n",
      "        10           9.027778     10  2017\n",
      "\n",
      "[790 rows x 3 columns]\n"
     ]
    }
   ],
   "source": [
    "# checking results:\n",
    "print(monthly_data)"
   ]
  },
  {
   "cell_type": "code",
   "execution_count": 167,
   "metadata": {},
   "outputs": [
    {
     "name": "stdout",
     "output_type": "stream",
     "text": [
      "     temp_celsius  month  year  ref_temp\n",
      "0       -1.400966      1  1952 -5.350916\n",
      "1       -5.396825      1  1953 -5.350916\n",
      "2       -7.072650      1  1954 -5.350916\n",
      "3       -5.473251      1  1955 -5.350916\n",
      "4       -8.133333      1  1956 -5.350916\n",
      "..            ...    ...   ...       ...\n",
      "785     -6.630824     12  2012 -3.211359\n",
      "786      1.362007     12  2013 -3.211359\n",
      "787     -1.146953     12  2014 -3.211359\n",
      "788      2.204301     12  2015 -3.211359\n",
      "789     -0.788530     12  2016 -3.211359\n",
      "\n",
      "[790 rows x 4 columns]\n"
     ]
    }
   ],
   "source": [
    "# bringing reference temperature to dataframe\n",
    "monthly_data = monthly_data.merge(reference_temps, on = 'month', how = 'inner')\n",
    "\n",
    "# checking results\n",
    "print(monthly_data)"
   ]
  },
  {
   "cell_type": "code",
   "execution_count": 168,
   "metadata": {},
   "outputs": [],
   "source": [
    "#store anomalies into new column\n",
    "monthly_data['diff'] = monthly_data['temp_celsius'] - monthly_data['ref_temp'] "
   ]
  },
  {
   "cell_type": "code",
   "execution_count": 169,
   "metadata": {
    "deletable": false,
    "editable": false,
    "nbgrader": {
     "cell_type": "code",
     "checksum": "62c207f31e93d4acf7be882e988e402d",
     "grade": true,
     "grade_id": "problem_3_ag_p1_temperature_anomaly_test1",
     "locked": true,
     "points": 1,
     "schema_version": 3,
     "solution": false
    }
   },
   "outputs": [
    {
     "data": {
      "text/html": [
       "<div>\n",
       "<style scoped>\n",
       "    .dataframe tbody tr th:only-of-type {\n",
       "        vertical-align: middle;\n",
       "    }\n",
       "\n",
       "    .dataframe tbody tr th {\n",
       "        vertical-align: top;\n",
       "    }\n",
       "\n",
       "    .dataframe thead th {\n",
       "        text-align: right;\n",
       "    }\n",
       "</style>\n",
       "<table border=\"1\" class=\"dataframe\">\n",
       "  <thead>\n",
       "    <tr style=\"text-align: right;\">\n",
       "      <th></th>\n",
       "      <th>temp_celsius</th>\n",
       "      <th>month</th>\n",
       "      <th>year</th>\n",
       "      <th>ref_temp</th>\n",
       "      <th>diff</th>\n",
       "    </tr>\n",
       "  </thead>\n",
       "  <tbody>\n",
       "    <tr>\n",
       "      <th>0</th>\n",
       "      <td>-1.400966</td>\n",
       "      <td>1</td>\n",
       "      <td>1952</td>\n",
       "      <td>-5.350916</td>\n",
       "      <td>3.949950</td>\n",
       "    </tr>\n",
       "    <tr>\n",
       "      <th>1</th>\n",
       "      <td>-5.396825</td>\n",
       "      <td>1</td>\n",
       "      <td>1953</td>\n",
       "      <td>-5.350916</td>\n",
       "      <td>-0.045909</td>\n",
       "    </tr>\n",
       "    <tr>\n",
       "      <th>2</th>\n",
       "      <td>-7.072650</td>\n",
       "      <td>1</td>\n",
       "      <td>1954</td>\n",
       "      <td>-5.350916</td>\n",
       "      <td>-1.721733</td>\n",
       "    </tr>\n",
       "    <tr>\n",
       "      <th>3</th>\n",
       "      <td>-5.473251</td>\n",
       "      <td>1</td>\n",
       "      <td>1955</td>\n",
       "      <td>-5.350916</td>\n",
       "      <td>-0.122335</td>\n",
       "    </tr>\n",
       "    <tr>\n",
       "      <th>4</th>\n",
       "      <td>-8.133333</td>\n",
       "      <td>1</td>\n",
       "      <td>1956</td>\n",
       "      <td>-5.350916</td>\n",
       "      <td>-2.782417</td>\n",
       "    </tr>\n",
       "  </tbody>\n",
       "</table>\n",
       "</div>"
      ],
      "text/plain": [
       "   temp_celsius  month  year  ref_temp      diff\n",
       "0     -1.400966      1  1952 -5.350916  3.949950\n",
       "1     -5.396825      1  1953 -5.350916 -0.045909\n",
       "2     -7.072650      1  1954 -5.350916 -1.721733\n",
       "3     -5.473251      1  1955 -5.350916 -0.122335\n",
       "4     -8.133333      1  1956 -5.350916 -2.782417"
      ]
     },
     "execution_count": 169,
     "metadata": {},
     "output_type": "execute_result"
    }
   ],
   "source": [
    "# Check the monthly data:\n",
    "monthly_data.head()"
   ]
  },
  {
   "cell_type": "code",
   "execution_count": 170,
   "metadata": {
    "deletable": false,
    "editable": false,
    "nbgrader": {
     "cell_type": "code",
     "checksum": "8cd77d3c5aa734cd67c966f6513c16c8",
     "grade": true,
     "grade_id": "problem_3_ag_p1_temperature_anomaly_test2",
     "locked": true,
     "points": 4,
     "schema_version": 3,
     "solution": false
    }
   },
   "outputs": [
    {
     "data": {
      "text/html": [
       "<div>\n",
       "<style scoped>\n",
       "    .dataframe tbody tr th:only-of-type {\n",
       "        vertical-align: middle;\n",
       "    }\n",
       "\n",
       "    .dataframe tbody tr th {\n",
       "        vertical-align: top;\n",
       "    }\n",
       "\n",
       "    .dataframe thead th {\n",
       "        text-align: right;\n",
       "    }\n",
       "</style>\n",
       "<table border=\"1\" class=\"dataframe\">\n",
       "  <thead>\n",
       "    <tr style=\"text-align: right;\">\n",
       "      <th></th>\n",
       "      <th>temp_celsius</th>\n",
       "      <th>ref_temp</th>\n",
       "      <th>diff</th>\n",
       "    </tr>\n",
       "  </thead>\n",
       "  <tbody>\n",
       "    <tr>\n",
       "      <th>count</th>\n",
       "      <td>682.000000</td>\n",
       "      <td>790.000000</td>\n",
       "      <td>6.820000e+02</td>\n",
       "    </tr>\n",
       "    <tr>\n",
       "      <th>mean</th>\n",
       "      <td>5.097114</td>\n",
       "      <td>5.094564</td>\n",
       "      <td>3.164624e-16</td>\n",
       "    </tr>\n",
       "    <tr>\n",
       "      <th>std</th>\n",
       "      <td>8.483949</td>\n",
       "      <td>8.102228</td>\n",
       "      <td>2.511899e+00</td>\n",
       "    </tr>\n",
       "    <tr>\n",
       "      <th>min</th>\n",
       "      <td>-17.974910</td>\n",
       "      <td>-5.941307</td>\n",
       "      <td>-1.262399e+01</td>\n",
       "    </tr>\n",
       "    <tr>\n",
       "      <th>25%</th>\n",
       "      <td>-1.685185</td>\n",
       "      <td>-2.440364</td>\n",
       "      <td>-1.520885e+00</td>\n",
       "    </tr>\n",
       "    <tr>\n",
       "      <th>50%</th>\n",
       "      <td>4.726105</td>\n",
       "      <td>5.487785</td>\n",
       "      <td>1.173686e-01</td>\n",
       "    </tr>\n",
       "    <tr>\n",
       "      <th>75%</th>\n",
       "      <td>12.870370</td>\n",
       "      <td>13.649932</td>\n",
       "      <td>1.667551e+00</td>\n",
       "    </tr>\n",
       "    <tr>\n",
       "      <th>max</th>\n",
       "      <td>22.329749</td>\n",
       "      <td>17.280519</td>\n",
       "      <td>7.111942e+00</td>\n",
       "    </tr>\n",
       "  </tbody>\n",
       "</table>\n",
       "</div>"
      ],
      "text/plain": [
       "       temp_celsius    ref_temp          diff\n",
       "count    682.000000  790.000000  6.820000e+02\n",
       "mean       5.097114    5.094564  3.164624e-16\n",
       "std        8.483949    8.102228  2.511899e+00\n",
       "min      -17.974910   -5.941307 -1.262399e+01\n",
       "25%       -1.685185   -2.440364 -1.520885e+00\n",
       "50%        4.726105    5.487785  1.173686e-01\n",
       "75%       12.870370   13.649932  1.667551e+00\n",
       "max       22.329749   17.280519  7.111942e+00"
      ]
     },
     "execution_count": 170,
     "metadata": {},
     "output_type": "execute_result"
    }
   ],
   "source": [
    "# Print out desriptive statistics for the relevant columns:\n",
    "monthly_data[[\"temp_celsius\", \"ref_temp\", \"diff\"]].describe()"
   ]
  },
  {
   "cell_type": "markdown",
   "metadata": {
    "deletable": false,
    "editable": false,
    "nbgrader": {
     "cell_type": "markdown",
     "checksum": "0accf99bee8a7e68dab2b80c81205337",
     "grade": false,
     "grade_id": "cell-bf1e120de1e8386e",
     "locked": true,
     "schema_version": 3,
     "solution": false,
     "task": false
    }
   },
   "source": [
    "Remember also to find out which month had the greatest weather anomaly during the observed time period in comparison with the reference data (create a script that prints out the answer to the screen):"
   ]
  },
  {
   "cell_type": "code",
   "execution_count": 176,
   "metadata": {
    "deletable": false,
    "nbgrader": {
     "cell_type": "code",
     "checksum": "4335a17427aa6a6ee264db98399cf660",
     "grade": true,
     "grade_id": "problem_3_mg_p2_extra_question",
     "locked": false,
     "points": 0,
     "schema_version": 3,
     "solution": true,
     "task": false
    }
   },
   "outputs": [
    {
     "data": {
      "text/html": [
       "<div>\n",
       "<style scoped>\n",
       "    .dataframe tbody tr th:only-of-type {\n",
       "        vertical-align: middle;\n",
       "    }\n",
       "\n",
       "    .dataframe tbody tr th {\n",
       "        vertical-align: top;\n",
       "    }\n",
       "\n",
       "    .dataframe thead th {\n",
       "        text-align: right;\n",
       "    }\n",
       "</style>\n",
       "<table border=\"1\" class=\"dataframe\">\n",
       "  <thead>\n",
       "    <tr style=\"text-align: right;\">\n",
       "      <th></th>\n",
       "      <th>temp_celsius</th>\n",
       "      <th>month</th>\n",
       "      <th>year</th>\n",
       "      <th>ref_temp</th>\n",
       "      <th>diff</th>\n",
       "    </tr>\n",
       "  </thead>\n",
       "  <tbody>\n",
       "    <tr>\n",
       "      <th>35</th>\n",
       "      <td>-17.97491</td>\n",
       "      <td>1</td>\n",
       "      <td>1987</td>\n",
       "      <td>-5.350916</td>\n",
       "      <td>-12.623994</td>\n",
       "    </tr>\n",
       "  </tbody>\n",
       "</table>\n",
       "</div>"
      ],
      "text/plain": [
       "    temp_celsius  month  year  ref_temp       diff\n",
       "35     -17.97491      1  1987 -5.350916 -12.623994"
      ]
     },
     "execution_count": 176,
     "metadata": {},
     "output_type": "execute_result"
    }
   ],
   "source": [
    "# REPLACE THE ERROR BELOW WITH YOUR OWN CODE\n",
    "\n",
    "# Greatest temperature difference\n",
    "monthly_data[abs(monthly_data['diff']) == abs(monthly_data['diff']).max()]"
   ]
  },
  {
   "cell_type": "markdown",
   "metadata": {
    "deletable": false,
    "editable": false,
    "nbgrader": {
     "cell_type": "markdown",
     "checksum": "05d75271b13f8fd543895353efb8b61c",
     "grade": false,
     "grade_id": "cell-99d62d1b7e475fd6",
     "locked": true,
     "schema_version": 3,
     "solution": false
    }
   },
   "source": [
    "### On to Problem 4 (*optional*)\n",
    "\n",
    "Now you can continue to the *optional* [Problem 4](Exercise-6-problem-4.ipynb)"
   ]
  }
 ],
 "metadata": {
  "kernelspec": {
   "display_name": "Python 3",
   "language": "python",
   "name": "python3"
  },
  "language_info": {
   "codemirror_mode": {
    "name": "ipython",
    "version": 3
   },
   "file_extension": ".py",
   "mimetype": "text/x-python",
   "name": "python",
   "nbconvert_exporter": "python",
   "pygments_lexer": "ipython3",
   "version": "3.8.5"
  }
 },
 "nbformat": 4,
 "nbformat_minor": 4
}
